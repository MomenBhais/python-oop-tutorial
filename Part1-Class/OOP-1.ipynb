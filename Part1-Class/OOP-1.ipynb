{
 "cells": [
  {
   "cell_type": "markdown",
   "id": "0b44e4c4-80a9-473a-82e7-4a321bacc107",
   "metadata": {},
   "source": [
    "## OOP"
   ]
  },
  {
   "cell_type": "markdown",
   "id": "8df88422-6b50-417c-b246-b56f577ef130",
   "metadata": {},
   "source": [
    "## 1- Sytax"
   ]
  },
  {
   "cell_type": "code",
   "execution_count": 3,
   "id": "395e564b-2e73-489d-b003-762e1d766931",
   "metadata": {},
   "outputs": [],
   "source": [
    "class member:\n",
    "    def __init__(self):\n",
    "        print(\"A new member has been added\")"
   ]
  },
  {
   "cell_type": "code",
   "execution_count": 5,
   "id": "75135ce1-13e2-4ace-b38c-4092c505b842",
   "metadata": {},
   "outputs": [
    {
     "name": "stdout",
     "output_type": "stream",
     "text": [
      "A new member has been added\n"
     ]
    },
    {
     "data": {
      "text/plain": [
       "<__main__.member at 0x1431d4b2a50>"
      ]
     },
     "execution_count": 5,
     "metadata": {},
     "output_type": "execute_result"
    }
   ],
   "source": [
    "member()"
   ]
  },
  {
   "cell_type": "code",
   "execution_count": 7,
   "id": "481296ca-372c-4b3c-9cd2-191cc3a7417e",
   "metadata": {},
   "outputs": [
    {
     "name": "stdout",
     "output_type": "stream",
     "text": [
      "['__class__', '__delattr__', '__dict__', '__dir__', '__doc__', '__eq__', '__format__', '__ge__', '__getattribute__', '__getstate__', '__gt__', '__hash__', '__init__', '__init_subclass__', '__le__', '__lt__', '__module__', '__ne__', '__new__', '__reduce__', '__reduce_ex__', '__repr__', '__setattr__', '__sizeof__', '__str__', '__subclasshook__', '__weakref__']\n"
     ]
    }
   ],
   "source": [
    "print(dir(member))"
   ]
  },
  {
   "cell_type": "code",
   "execution_count": 15,
   "id": "15e98a80-61f6-4f9e-8dee-c29dc9a28cd8",
   "metadata": {},
   "outputs": [
    {
     "name": "stdout",
     "output_type": "stream",
     "text": [
      "A new member has been added\n",
      "A new member has been added\n"
     ]
    }
   ],
   "source": [
    "member1 = member()\n",
    "member2 = member()"
   ]
  },
  {
   "cell_type": "code",
   "execution_count": 17,
   "id": "39034b52-265f-43ef-9661-b59b545ea80f",
   "metadata": {},
   "outputs": [
    {
     "name": "stdout",
     "output_type": "stream",
     "text": [
      "<class '__main__.member'>\n"
     ]
    }
   ],
   "source": [
    "print(member1.__class__)"
   ]
  },
  {
   "cell_type": "markdown",
   "id": "fb9b3d2b-0859-4528-b41a-eb56fcd91f04",
   "metadata": {},
   "source": [
    "## 2- Instance's Attributes "
   ]
  },
  {
   "cell_type": "code",
   "execution_count": 25,
   "id": "c6631ea7-fcda-4a17-9deb-c3788e67eb77",
   "metadata": {},
   "outputs": [],
   "source": [
    "class member:\n",
    "    def __init__(self):\n",
    "        self.name = 'ziada'"
   ]
  },
  {
   "cell_type": "code",
   "execution_count": 37,
   "id": "8a7cf6be-6d5f-4340-b5a4-268babc249e1",
   "metadata": {},
   "outputs": [],
   "source": [
    "member1 = member()\n",
    "member2 = member()\n",
    "member3 = member()"
   ]
  },
  {
   "cell_type": "code",
   "execution_count": 39,
   "id": "86d9770e-370c-4aa7-906b-1c7582c4bcbd",
   "metadata": {},
   "outputs": [
    {
     "name": "stdout",
     "output_type": "stream",
     "text": [
      "['__class__', '__delattr__', '__dict__', '__dir__', '__doc__', '__eq__', '__format__', '__ge__', '__getattribute__', '__getstate__', '__gt__', '__hash__', '__init__', '__init_subclass__', '__le__', '__lt__', '__module__', '__ne__', '__new__', '__reduce__', '__reduce_ex__', '__repr__', '__setattr__', '__sizeof__', '__str__', '__subclasshook__', '__weakref__', 'name']\n"
     ]
    }
   ],
   "source": [
    "print(dir(member1))"
   ]
  },
  {
   "cell_type": "code",
   "execution_count": 41,
   "id": "40c55b1c-7385-455c-9bc2-c353269a81df",
   "metadata": {},
   "outputs": [
    {
     "name": "stdout",
     "output_type": "stream",
     "text": [
      "ziada\n"
     ]
    }
   ],
   "source": [
    "print(member1.name)"
   ]
  },
  {
   "cell_type": "code",
   "execution_count": 43,
   "id": "7a0c6e9f-abf1-4b6f-996a-2ba55053c497",
   "metadata": {},
   "outputs": [
    {
     "name": "stdout",
     "output_type": "stream",
     "text": [
      "ziada\n",
      "ziada\n"
     ]
    }
   ],
   "source": [
    "print(member2.name)\n",
    "print(member3.name)"
   ]
  },
  {
   "cell_type": "code",
   "execution_count": 45,
   "id": "3a3ee35a-1b72-4cd7-8205-a1c2f0ee7d11",
   "metadata": {},
   "outputs": [],
   "source": [
    "class member:\n",
    "    def __init__(self,f_name):\n",
    "        self.name = f_name"
   ]
  },
  {
   "cell_type": "code",
   "execution_count": 47,
   "id": "d8ce89cd-a13e-406d-9b51-af06e4a52f52",
   "metadata": {},
   "outputs": [
    {
     "ename": "TypeError",
     "evalue": "member.__init__() missing 1 required positional argument: 'f_name'",
     "output_type": "error",
     "traceback": [
      "\u001b[1;31m---------------------------------------------------------------------------\u001b[0m",
      "\u001b[1;31mTypeError\u001b[0m                                 Traceback (most recent call last)",
      "Cell \u001b[1;32mIn[47], line 1\u001b[0m\n\u001b[1;32m----> 1\u001b[0m member1 \u001b[38;5;241m=\u001b[39m member()\n",
      "\u001b[1;31mTypeError\u001b[0m: member.__init__() missing 1 required positional argument: 'f_name'"
     ]
    }
   ],
   "source": [
    "member1 = member()"
   ]
  },
  {
   "cell_type": "code",
   "execution_count": 49,
   "id": "a05409fb-5342-4fa3-96f7-8c73870382c4",
   "metadata": {},
   "outputs": [],
   "source": [
    "member1 = member(\"Ahmed\")\n",
    "member2 = member(\"Ali\")\n",
    "member3 = member(\"Aya\")"
   ]
  },
  {
   "cell_type": "code",
   "execution_count": 51,
   "id": "659e1c4a-2cd7-41fb-a359-7ad8e671f974",
   "metadata": {},
   "outputs": [
    {
     "name": "stdout",
     "output_type": "stream",
     "text": [
      "Ahmed\n",
      "Ali\n",
      "Aya\n"
     ]
    }
   ],
   "source": [
    "print(member1.name)\n",
    "print(member2.name)\n",
    "print(member3.name)"
   ]
  },
  {
   "cell_type": "code",
   "execution_count": 53,
   "id": "177ccccd-26e6-4d57-a721-6ba22bf01fbc",
   "metadata": {},
   "outputs": [],
   "source": [
    "class member:\n",
    "    def __init__(self,f_name,m_name,l_name):\n",
    "        self.fname = f_name\n",
    "        self.mname = m_name\n",
    "        self.lname = l_name"
   ]
  },
  {
   "cell_type": "code",
   "execution_count": 55,
   "id": "869457c5-2558-41d4-b3d9-a58e3fb258e2",
   "metadata": {},
   "outputs": [],
   "source": [
    "member1 = member(\"Ahmed\",\"Ali\",\"Ziada\")"
   ]
  },
  {
   "cell_type": "code",
   "execution_count": 57,
   "id": "0ff236ff-ad5c-4d0a-81cc-4dccbfd9d32c",
   "metadata": {},
   "outputs": [
    {
     "name": "stdout",
     "output_type": "stream",
     "text": [
      "['__class__', '__delattr__', '__dict__', '__dir__', '__doc__', '__eq__', '__format__', '__ge__', '__getattribute__', '__getstate__', '__gt__', '__hash__', '__init__', '__init_subclass__', '__le__', '__lt__', '__module__', '__ne__', '__new__', '__reduce__', '__reduce_ex__', '__repr__', '__setattr__', '__sizeof__', '__str__', '__subclasshook__', '__weakref__', 'fname', 'lname', 'mname']\n"
     ]
    }
   ],
   "source": [
    "print(dir(member1))"
   ]
  },
  {
   "cell_type": "code",
   "execution_count": 59,
   "id": "dba08895-af64-49e7-aad5-919c0ea803b7",
   "metadata": {},
   "outputs": [
    {
     "name": "stdout",
     "output_type": "stream",
     "text": [
      "Ahmed Ali Ziada\n"
     ]
    }
   ],
   "source": [
    "print(member1.fname,member1.mname, member1.lname)"
   ]
  },
  {
   "cell_type": "markdown",
   "id": "971a2e01-aed3-407e-8c5c-6dabdc8258a7",
   "metadata": {},
   "source": [
    "## 2.2- Instance's Methods "
   ]
  },
  {
   "cell_type": "code",
   "execution_count": 63,
   "id": "b5bf378a-b8cb-474f-a181-3e6a5c691f21",
   "metadata": {},
   "outputs": [],
   "source": [
    "class member:\n",
    "    def __init__(self,f_name,m_name,l_name):\n",
    "        self.fname = f_name\n",
    "        self.mname = m_name\n",
    "        self.lname = l_name\n",
    "\n",
    "\n",
    "    def full_name(self):\n",
    "        return f'{self.fname} {self.mname} {self.lname} '"
   ]
  },
  {
   "cell_type": "code",
   "execution_count": 69,
   "id": "daf3e463-d9a7-43bb-88f2-41717e9ff4f5",
   "metadata": {},
   "outputs": [],
   "source": [
    "member5 = member(\"Ahmed\",\"Ali\",\"Ziada\")"
   ]
  },
  {
   "cell_type": "code",
   "execution_count": 73,
   "id": "099c5231-70a2-4054-aa11-ff4a36a55fcd",
   "metadata": {},
   "outputs": [
    {
     "name": "stdout",
     "output_type": "stream",
     "text": [
      "['__class__', '__delattr__', '__dict__', '__dir__', '__doc__', '__eq__', '__format__', '__ge__', '__getattribute__', '__getstate__', '__gt__', '__hash__', '__init__', '__init_subclass__', '__le__', '__lt__', '__module__', '__ne__', '__new__', '__reduce__', '__reduce_ex__', '__repr__', '__setattr__', '__sizeof__', '__str__', '__subclasshook__', '__weakref__', 'fname', 'full_name', 'lname', 'mname']\n"
     ]
    }
   ],
   "source": [
    "print(dir(member5))"
   ]
  },
  {
   "cell_type": "code",
   "execution_count": 75,
   "id": "17b4ad1a-af79-47e5-9145-3cd7a4aba435",
   "metadata": {},
   "outputs": [
    {
     "data": {
      "text/plain": [
       "'Ahmed'"
      ]
     },
     "execution_count": 75,
     "metadata": {},
     "output_type": "execute_result"
    }
   ],
   "source": [
    "member5.fname"
   ]
  },
  {
   "cell_type": "code",
   "execution_count": 77,
   "id": "b1f23e54-39cb-4d45-8277-29f23af6c6ab",
   "metadata": {},
   "outputs": [
    {
     "data": {
      "text/plain": [
       "'Ahmed Ali Ziada '"
      ]
     },
     "execution_count": 77,
     "metadata": {},
     "output_type": "execute_result"
    }
   ],
   "source": [
    "member5.full_name()"
   ]
  },
  {
   "cell_type": "code",
   "execution_count": 92,
   "id": "28967732-c3e3-4429-b765-c91bf5b0f5fb",
   "metadata": {},
   "outputs": [],
   "source": [
    "class member:\n",
    "    def __init__(self,f_name,m_name,l_name):\n",
    "        self.fname = f_name\n",
    "        self.mname = m_name\n",
    "        self.lname = l_name\n",
    "\n",
    "\n",
    "    def full_name(self):\n",
    "        return f'{self.fname} {self.mname} {self.lname} '\n",
    "\n",
    "\n",
    "    def name_wz_title(self):\n",
    "        return f'Hello MR, {self.fname}'"
   ]
  },
  {
   "cell_type": "code",
   "execution_count": 94,
   "id": "9c6e86b4-81f5-459c-b1d2-74e209aae95c",
   "metadata": {},
   "outputs": [],
   "source": [
    "member5 = member(\"Ahmed\",\"Ali\",\"Ziada\")"
   ]
  },
  {
   "cell_type": "code",
   "execution_count": 96,
   "id": "0dc2c110-d351-4e16-9453-ded8748f4dab",
   "metadata": {},
   "outputs": [
    {
     "data": {
      "text/plain": [
       "'Hello MR, Ahmed'"
      ]
     },
     "execution_count": 96,
     "metadata": {},
     "output_type": "execute_result"
    }
   ],
   "source": [
    "member5.name_wz_title()"
   ]
  },
  {
   "cell_type": "code",
   "execution_count": 110,
   "id": "384e4e6b-c646-467d-b536-fadad6e124fc",
   "metadata": {},
   "outputs": [],
   "source": [
    "member6 =  member(\"aya\",\"Ali\",\"Ziada\")"
   ]
  },
  {
   "cell_type": "code",
   "execution_count": 112,
   "id": "e9fbe393-828c-48bc-a36b-6b181844f7a1",
   "metadata": {},
   "outputs": [
    {
     "data": {
      "text/plain": [
       "'Hello MR, aya'"
      ]
     },
     "execution_count": 112,
     "metadata": {},
     "output_type": "execute_result"
    }
   ],
   "source": [
    "member6.name_wz_title()"
   ]
  },
  {
   "cell_type": "code",
   "execution_count": 114,
   "id": "b92d5463-50ec-46ed-b38a-6f1a607035bf",
   "metadata": {},
   "outputs": [],
   "source": [
    "class member:\n",
    "    def __init__(self,f_name,m_name,l_name,gender):\n",
    "        self.fname = f_name\n",
    "        self.mname = m_name\n",
    "        self.lname = l_name\n",
    "        self.gender = gender\n",
    "\n",
    "    def full_name(self):\n",
    "        return f'{self.fname} {self.mname} {self.lname} '\n",
    "\n",
    "\n",
    "    def name_wz_title(self):\n",
    "        if self.gender == 'Male':\n",
    "            return f'Hello MR, {self.fname}'\n",
    "\n",
    "        elif self.gender == 'Female':\n",
    "            return f'Hello Miss, {self.fname}'\n",
    "\n",
    "        else:\n",
    "            return f'Hello, {self.fname}'"
   ]
  },
  {
   "cell_type": "code",
   "execution_count": 116,
   "id": "a673d7ce-fc98-4661-8aa5-fc2fa572fcc0",
   "metadata": {},
   "outputs": [
    {
     "data": {
      "text/plain": [
       "'Hello MR, Ahmed'"
      ]
     },
     "execution_count": 116,
     "metadata": {},
     "output_type": "execute_result"
    }
   ],
   "source": [
    "member1 = member(\"Ahmed\",\"Ali\",\"Ziada\",\"Male\")\n",
    "member1.name_wz_title()"
   ]
  },
  {
   "cell_type": "code",
   "execution_count": 120,
   "id": "fe40bcc9-bb8c-4470-a7b4-2eed87ac62c9",
   "metadata": {},
   "outputs": [
    {
     "data": {
      "text/plain": [
       "'Hello Miss, Aya'"
      ]
     },
     "execution_count": 120,
     "metadata": {},
     "output_type": "execute_result"
    }
   ],
   "source": [
    "member2 = member(\"Aya\",\"Ali\",\"Ziada\",\"Female\")\n",
    "member2.name_wz_title()"
   ]
  },
  {
   "cell_type": "code",
   "execution_count": 122,
   "id": "7569aa2c-90d3-4ceb-b07b-1ec569255037",
   "metadata": {},
   "outputs": [
    {
     "data": {
      "text/plain": [
       "'Hello, Aya'"
      ]
     },
     "execution_count": 122,
     "metadata": {},
     "output_type": "execute_result"
    }
   ],
   "source": [
    "\n",
    "member2 = member(\"Aya\",\"Ali\",\"Ziada\",\"l;kjoihiudbdsuy\")\n",
    "member2.name_wz_title()\n"
   ]
  },
  {
   "cell_type": "code",
   "execution_count": 124,
   "id": "64273faf-5f27-4ef3-b2d3-823addff6b12",
   "metadata": {},
   "outputs": [],
   "source": [
    "class member:\n",
    "    def __init__(self,f_name,m_name,l_name,gender):\n",
    "        self.fname = f_name\n",
    "        self.mname = m_name\n",
    "        self.lname = l_name\n",
    "        self.gender = gender\n",
    "\n",
    "    def full_name(self):\n",
    "        return f'{self.fname} {self.mname} {self.lname} '\n",
    "\n",
    "\n",
    "    def name_wz_title(self):\n",
    "        if self.gender == 'Male':\n",
    "            return f'Hello MR, {self.fname}'\n",
    "\n",
    "        elif self.gender == 'Female':\n",
    "            return f'Hello Miss, {self.fname}'\n",
    "\n",
    "        else:\n",
    "            return f'Hello, {self.fname}'\n",
    "\n",
    "\n",
    "    def get_all_info(self):\n",
    "        return f'{self.name_wz_title()}, your full name is {self.full_name()}'"
   ]
  },
  {
   "cell_type": "code",
   "execution_count": 126,
   "id": "3954474a-61df-4488-8768-1b992e91c633",
   "metadata": {},
   "outputs": [
    {
     "data": {
      "text/plain": [
       "'Hello MR, Ahmed, your full name is Ahmed Ali Ziada '"
      ]
     },
     "execution_count": 126,
     "metadata": {},
     "output_type": "execute_result"
    }
   ],
   "source": [
    "member1 = member(\"Ahmed\",\"Ali\",\"Ziada\",\"Male\")\n",
    "member1.get_all_info()"
   ]
  },
  {
   "cell_type": "markdown",
   "id": "5e6130c9-d8cb-4a17-b64b-dbe81616330e",
   "metadata": {},
   "source": [
    "## Exercies [Create Class -- Bank Account]"
   ]
  },
  {
   "cell_type": "code",
   "execution_count": null,
   "id": "423d9409-50f3-4890-a850-e6f796d070e0",
   "metadata": {},
   "outputs": [],
   "source": [
    "'''\n",
    "Class --> bank_aac\n",
    "----------------------------\n",
    "constructor --> balance\n",
    "------------------------\n",
    "Methods:\n",
    "1- \n",
    "deposit_fun --> add amount to balance\n",
    "amount --> input msg \n",
    "\n",
    "2- \n",
    "withdraw_fun --> subtract from balance\n",
    "amount --> input msg \n",
    "\n",
    "3- \n",
    "display_fun --> display you balance\n",
    "\n",
    "'''"
   ]
  },
  {
   "cell_type": "code",
   "execution_count": 135,
   "id": "8058eba9-fb62-4258-843c-daf608ae7c4d",
   "metadata": {},
   "outputs": [],
   "source": [
    "class Bank_Account:\n",
    "\n",
    "    def __init__(self, balance):\n",
    "        self.balance = balance\n",
    "        print('Welcome to your Bank Account')\n",
    "\n",
    "\n",
    "    #deposite function\n",
    "    def deposit(self):\n",
    "        amount = float(input('Enter the Amount to Deposit'))\n",
    "        self.balance += amount \n",
    "        print('Your current Balance is: ',self.balance)\n",
    "\n",
    "\n",
    "\n",
    "   #deposite function\n",
    "    def withdraw(self):\n",
    "        amount = float(input('Enter the Amount to withdraw'))\n",
    "        if self.balance >= amount:\n",
    "            self.balance -= amount \n",
    "            print('Your current Balance is: ',self.balance)\n",
    "\n",
    "        else:\n",
    "            print('Your current Balance is not enough ')\n",
    "\n",
    "\n",
    "\n",
    "    def disply(self):\n",
    "       print('Your current Balance is: ',self.balance)"
   ]
  },
  {
   "cell_type": "code",
   "execution_count": 137,
   "id": "9f92a067-7181-47de-8a23-aae07ff12399",
   "metadata": {},
   "outputs": [
    {
     "name": "stdout",
     "output_type": "stream",
     "text": [
      "Welcome to your Bank Account\n"
     ]
    }
   ],
   "source": [
    "c = Bank_Account(2000)"
   ]
  },
  {
   "cell_type": "code",
   "execution_count": 139,
   "id": "2a81081d-564b-4735-bad4-6eac4a9d14d5",
   "metadata": {},
   "outputs": [
    {
     "name": "stdout",
     "output_type": "stream",
     "text": [
      "Your current Balance is:  2000\n"
     ]
    }
   ],
   "source": [
    "c.disply()"
   ]
  },
  {
   "cell_type": "code",
   "execution_count": 149,
   "id": "5be51cd8-9160-49e9-bd48-2f874852597e",
   "metadata": {},
   "outputs": [
    {
     "name": "stdin",
     "output_type": "stream",
     "text": [
      "Enter the Amount to withdraw 3000\n"
     ]
    },
    {
     "name": "stdout",
     "output_type": "stream",
     "text": [
      "Your current Balance is not enough \n"
     ]
    }
   ],
   "source": [
    "c.withdraw()"
   ]
  },
  {
   "cell_type": "code",
   "execution_count": 151,
   "id": "b3026922-2685-4363-853b-c35464efbd2e",
   "metadata": {},
   "outputs": [
    {
     "name": "stdin",
     "output_type": "stream",
     "text": [
      "Enter the Amount to withdraw 1500\n"
     ]
    },
    {
     "name": "stdout",
     "output_type": "stream",
     "text": [
      "Your current Balance is:  500.0\n"
     ]
    }
   ],
   "source": [
    "c.withdraw()"
   ]
  },
  {
   "cell_type": "code",
   "execution_count": 153,
   "id": "17c7b951-76f0-441d-a832-fa28929bacd3",
   "metadata": {},
   "outputs": [
    {
     "name": "stdin",
     "output_type": "stream",
     "text": [
      "Enter the Amount to Deposit 3000\n"
     ]
    },
    {
     "name": "stdout",
     "output_type": "stream",
     "text": [
      "Your current Balance is:  3500.0\n"
     ]
    }
   ],
   "source": [
    "c.deposit()"
   ]
  },
  {
   "cell_type": "code",
   "execution_count": 155,
   "id": "1a80ccc2-e7df-400a-b029-dd1abbf93498",
   "metadata": {},
   "outputs": [
    {
     "name": "stdout",
     "output_type": "stream",
     "text": [
      "Your current Balance is:  3500.0\n"
     ]
    }
   ],
   "source": [
    "c.disply()"
   ]
  },
  {
   "cell_type": "code",
   "execution_count": 157,
   "id": "9b1e2d08-23ff-40e0-821f-3950ae2f999c",
   "metadata": {},
   "outputs": [],
   "source": [
    "class Bank_Account:\n",
    "\n",
    "    def __init__(self, balance):\n",
    "        self.balance = balance\n",
    "        print('Welcome to your Bank Account')\n",
    "\n",
    "\n",
    "    #deposite function\n",
    "    def deposit(self,amount):\n",
    "        #amount = float(input('Enter the Amount to Deposit'))\n",
    "        self.balance += amount \n",
    "        print('Your current Balance is: ',self.balance)\n",
    "\n",
    "\n",
    "\n",
    "   #deposite function\n",
    "    def withdraw(self, amount):\n",
    "        #amount = float(input('Enter the Amount to withdraw'))\n",
    "        if self.balance >= amount:\n",
    "            self.balance -= amount \n",
    "            print('Your current Balance is: ',self.balance)\n",
    "\n",
    "        else:\n",
    "            print('Your current Balance is not enough ')\n",
    "\n",
    "\n",
    "\n",
    "    def disply(self):\n",
    "       print('Your current Balance is: ',self.balance)"
   ]
  },
  {
   "cell_type": "code",
   "execution_count": 159,
   "id": "cbc195fb-ab09-403f-8b95-12a8708086ae",
   "metadata": {},
   "outputs": [
    {
     "name": "stdout",
     "output_type": "stream",
     "text": [
      "Welcome to your Bank Account\n"
     ]
    }
   ],
   "source": [
    "c1 = Bank_Account(4000)"
   ]
  },
  {
   "cell_type": "code",
   "execution_count": 161,
   "id": "3a7b1b8b-4fe8-4697-9bc1-620e8d7ef412",
   "metadata": {},
   "outputs": [
    {
     "name": "stdout",
     "output_type": "stream",
     "text": [
      "Your current Balance is:  3000\n"
     ]
    }
   ],
   "source": [
    "c1.withdraw(1000)"
   ]
  },
  {
   "cell_type": "markdown",
   "id": "bc309c23-3fb7-4a4e-ae49-4b71d2b910ba",
   "metadata": {},
   "source": [
    "## Class Attributes"
   ]
  },
  {
   "cell_type": "code",
   "execution_count": 181,
   "id": "6868ba4f-027f-42bd-951d-eaea4b418396",
   "metadata": {},
   "outputs": [],
   "source": [
    "# Class Attributes :Attributes defind outside the constructor"
   ]
  },
  {
   "cell_type": "code",
   "execution_count": 189,
   "id": "2401eddc-0eb0-4887-a9ca-90aa12c9d826",
   "metadata": {},
   "outputs": [],
   "source": [
    "class members:\n",
    "    not_allowed_names = [\"No\",\"Hell\",\"shit\"]\n",
    "    \n",
    "    def __init__(self,f_name,m_name,l_name,gender):\n",
    "        self.fname = f_name\n",
    "        self.mname = m_name\n",
    "        self.lname = l_name\n",
    "        self.gender = gender\n",
    "\n",
    "    def full_name(self):\n",
    "        if self.fname in member.not_allowed_names:\n",
    "            raise ValueError(\"Name Not Allowed\")\n",
    "        else:\n",
    "            return f'{self.fname} {self.mname} {self.lname}'\n",
    "\n",
    "\n",
    "    def name_wz_title(self):\n",
    "        if self.gender == 'Male':\n",
    "            return f'Hello MR, {self.fname}'\n",
    "\n",
    "        elif self.gender == 'Female':\n",
    "            return f'Hello Miss, {self.fname}'\n",
    "\n",
    "        else:\n",
    "            return f'Hello, {self.fname}'\n",
    "\n",
    "\n",
    "    def get_all_info(self):\n",
    "        return f'{self.name_wz_title()}, your full name is {self.full_name()}'"
   ]
  },
  {
   "cell_type": "code",
   "execution_count": 191,
   "id": "1132df38-02a3-4534-9987-e69872ecd686",
   "metadata": {},
   "outputs": [],
   "source": [
    "member1 = members(\"Hell\",\"Ali\",\"Ziada\",\"Male\")"
   ]
  },
  {
   "cell_type": "code",
   "execution_count": 193,
   "id": "3aa135c9-7149-48d0-abe9-2b5c791af3d8",
   "metadata": {},
   "outputs": [
    {
     "ename": "ValueError",
     "evalue": "Name Not Allowed",
     "output_type": "error",
     "traceback": [
      "\u001b[1;31m---------------------------------------------------------------------------\u001b[0m",
      "\u001b[1;31mValueError\u001b[0m                                Traceback (most recent call last)",
      "Cell \u001b[1;32mIn[193], line 1\u001b[0m\n\u001b[1;32m----> 1\u001b[0m member1\u001b[38;5;241m.\u001b[39mfull_name()\n",
      "Cell \u001b[1;32mIn[189], line 12\u001b[0m, in \u001b[0;36mmembers.full_name\u001b[1;34m(self)\u001b[0m\n\u001b[0;32m     10\u001b[0m \u001b[38;5;28;01mdef\u001b[39;00m \u001b[38;5;21mfull_name\u001b[39m(\u001b[38;5;28mself\u001b[39m):\n\u001b[0;32m     11\u001b[0m     \u001b[38;5;28;01mif\u001b[39;00m \u001b[38;5;28mself\u001b[39m\u001b[38;5;241m.\u001b[39mfname \u001b[38;5;129;01min\u001b[39;00m member\u001b[38;5;241m.\u001b[39mnot_allowed_names:\n\u001b[1;32m---> 12\u001b[0m         \u001b[38;5;28;01mraise\u001b[39;00m \u001b[38;5;167;01mValueError\u001b[39;00m(\u001b[38;5;124m\"\u001b[39m\u001b[38;5;124mName Not Allowed\u001b[39m\u001b[38;5;124m\"\u001b[39m)\n\u001b[0;32m     13\u001b[0m     \u001b[38;5;28;01melse\u001b[39;00m:\n\u001b[0;32m     14\u001b[0m         \u001b[38;5;28;01mreturn\u001b[39;00m \u001b[38;5;124mf\u001b[39m\u001b[38;5;124m'\u001b[39m\u001b[38;5;132;01m{\u001b[39;00m\u001b[38;5;28mself\u001b[39m\u001b[38;5;241m.\u001b[39mfname\u001b[38;5;132;01m}\u001b[39;00m\u001b[38;5;124m \u001b[39m\u001b[38;5;132;01m{\u001b[39;00m\u001b[38;5;28mself\u001b[39m\u001b[38;5;241m.\u001b[39mmname\u001b[38;5;132;01m}\u001b[39;00m\u001b[38;5;124m \u001b[39m\u001b[38;5;132;01m{\u001b[39;00m\u001b[38;5;28mself\u001b[39m\u001b[38;5;241m.\u001b[39mlname\u001b[38;5;132;01m}\u001b[39;00m\u001b[38;5;124m'\u001b[39m\n",
      "\u001b[1;31mValueError\u001b[0m: Name Not Allowed"
     ]
    }
   ],
   "source": [
    "member1.full_name()"
   ]
  },
  {
   "cell_type": "code",
   "execution_count": 195,
   "id": "040e6ab3-9476-4490-bfc5-d542a0690b7b",
   "metadata": {},
   "outputs": [
    {
     "ename": "ValueError",
     "evalue": "Name Not Allowed",
     "output_type": "error",
     "traceback": [
      "\u001b[1;31m---------------------------------------------------------------------------\u001b[0m",
      "\u001b[1;31mValueError\u001b[0m                                Traceback (most recent call last)",
      "Cell \u001b[1;32mIn[195], line 1\u001b[0m\n\u001b[1;32m----> 1\u001b[0m member1\u001b[38;5;241m.\u001b[39mget_all_info()\n",
      "Cell \u001b[1;32mIn[189], line 29\u001b[0m, in \u001b[0;36mmembers.get_all_info\u001b[1;34m(self)\u001b[0m\n\u001b[0;32m     28\u001b[0m \u001b[38;5;28;01mdef\u001b[39;00m \u001b[38;5;21mget_all_info\u001b[39m(\u001b[38;5;28mself\u001b[39m):\n\u001b[1;32m---> 29\u001b[0m     \u001b[38;5;28;01mreturn\u001b[39;00m \u001b[38;5;124mf\u001b[39m\u001b[38;5;124m'\u001b[39m\u001b[38;5;132;01m{\u001b[39;00m\u001b[38;5;28mself\u001b[39m\u001b[38;5;241m.\u001b[39mname_wz_title()\u001b[38;5;132;01m}\u001b[39;00m\u001b[38;5;124m, your full name is \u001b[39m\u001b[38;5;132;01m{\u001b[39;00m\u001b[38;5;28mself\u001b[39m\u001b[38;5;241m.\u001b[39mfull_name()\u001b[38;5;132;01m}\u001b[39;00m\u001b[38;5;124m'\u001b[39m\n",
      "Cell \u001b[1;32mIn[189], line 12\u001b[0m, in \u001b[0;36mmembers.full_name\u001b[1;34m(self)\u001b[0m\n\u001b[0;32m     10\u001b[0m \u001b[38;5;28;01mdef\u001b[39;00m \u001b[38;5;21mfull_name\u001b[39m(\u001b[38;5;28mself\u001b[39m):\n\u001b[0;32m     11\u001b[0m     \u001b[38;5;28;01mif\u001b[39;00m \u001b[38;5;28mself\u001b[39m\u001b[38;5;241m.\u001b[39mfname \u001b[38;5;129;01min\u001b[39;00m member\u001b[38;5;241m.\u001b[39mnot_allowed_names:\n\u001b[1;32m---> 12\u001b[0m         \u001b[38;5;28;01mraise\u001b[39;00m \u001b[38;5;167;01mValueError\u001b[39;00m(\u001b[38;5;124m\"\u001b[39m\u001b[38;5;124mName Not Allowed\u001b[39m\u001b[38;5;124m\"\u001b[39m)\n\u001b[0;32m     13\u001b[0m     \u001b[38;5;28;01melse\u001b[39;00m:\n\u001b[0;32m     14\u001b[0m         \u001b[38;5;28;01mreturn\u001b[39;00m \u001b[38;5;124mf\u001b[39m\u001b[38;5;124m'\u001b[39m\u001b[38;5;132;01m{\u001b[39;00m\u001b[38;5;28mself\u001b[39m\u001b[38;5;241m.\u001b[39mfname\u001b[38;5;132;01m}\u001b[39;00m\u001b[38;5;124m \u001b[39m\u001b[38;5;132;01m{\u001b[39;00m\u001b[38;5;28mself\u001b[39m\u001b[38;5;241m.\u001b[39mmname\u001b[38;5;132;01m}\u001b[39;00m\u001b[38;5;124m \u001b[39m\u001b[38;5;132;01m{\u001b[39;00m\u001b[38;5;28mself\u001b[39m\u001b[38;5;241m.\u001b[39mlname\u001b[38;5;132;01m}\u001b[39;00m\u001b[38;5;124m'\u001b[39m\n",
      "\u001b[1;31mValueError\u001b[0m: Name Not Allowed"
     ]
    }
   ],
   "source": [
    "member1.get_all_info()"
   ]
  },
  {
   "cell_type": "code",
   "execution_count": 201,
   "id": "3cb05554-8f12-4cf2-a9e0-1ee15f520bcf",
   "metadata": {},
   "outputs": [],
   "source": [
    "class members:\n",
    "    not_allowed_names = [\"No\",\"Hell\",\"shit\"]\n",
    "    users_num = 0\n",
    "\n",
    "    \n",
    "    def __init__(self,f_name,m_name,l_name,gender):\n",
    "        self.fname = f_name\n",
    "        self.mname = m_name\n",
    "        self.lname = l_name\n",
    "        self.gender = gender\n",
    "        members.users_num +=1   #member.users_num = member.users_num +1\n",
    "       \n",
    "    \n",
    "\n",
    "    def full_name(self):\n",
    "        if self.fname in members.not_allowed_names:\n",
    "            raise ValueError(\"Name Not Allowed\")\n",
    "        else:\n",
    "            return f'{self.fname} {self.mname} {self.lname}'\n",
    "\n",
    "\n",
    "    def name_wz_title(self):\n",
    "        if self.gender == 'Male':\n",
    "            return f'Hello MR, {self.fname}'\n",
    "\n",
    "        elif self.gender == 'Female':\n",
    "            return f'Hello Miss, {self.fname}'\n",
    "\n",
    "        else:\n",
    "            return f'Hello, {self.fname}'\n",
    "\n",
    "\n",
    "    def get_all_info(self):\n",
    "        return f'{self.name_wz_title()}, your full name is {self.full_name()}'"
   ]
  },
  {
   "cell_type": "code",
   "execution_count": 203,
   "id": "2fdc833d-961a-4796-bfca-452b317c5eb6",
   "metadata": {},
   "outputs": [],
   "source": [
    "member1 = members(\"Ahmed\",\"Ali\",\"Ziada\",\"Male\")\n",
    "member2 = members(\"Aya\",\"Ali\",\"Ziada\",\"Female\")\n",
    "member3 = members(\"Mohamed\",\"Ali\",\"Ziada\",\"Male\")"
   ]
  },
  {
   "cell_type": "code",
   "execution_count": 205,
   "id": "54080783-c757-4869-809d-b6c365af9b9a",
   "metadata": {},
   "outputs": [
    {
     "name": "stdout",
     "output_type": "stream",
     "text": [
      "3\n"
     ]
    }
   ],
   "source": [
    "print(members.users_num)"
   ]
  },
  {
   "cell_type": "code",
   "execution_count": 207,
   "id": "bdb389c3-634e-4a17-a7b6-f67effcd7639",
   "metadata": {},
   "outputs": [],
   "source": [
    "member4 = members(\"Mohamed\",\"Ali\",\"Ziada\",\"Male\")"
   ]
  },
  {
   "cell_type": "code",
   "execution_count": 209,
   "id": "859e3ec8-cebb-412f-a7a5-aa55797a7461",
   "metadata": {},
   "outputs": [
    {
     "name": "stdout",
     "output_type": "stream",
     "text": [
      "4\n"
     ]
    }
   ],
   "source": [
    "print(members.users_num)"
   ]
  },
  {
   "cell_type": "code",
   "execution_count": 211,
   "id": "db7d731f-ae98-4bda-9fbf-449d96ccc735",
   "metadata": {},
   "outputs": [],
   "source": [
    "class members:\n",
    "    not_allowed_names = [\"No\",\"Hell\",\"shit\"]\n",
    "    users_num = 0\n",
    "\n",
    "    \n",
    "    def __init__(self,f_name,m_name,l_name,gender):\n",
    "        self.fname = f_name\n",
    "        self.mname = m_name\n",
    "        self.lname = l_name\n",
    "        self.gender = gender\n",
    "        members.users_num +=1   #member.users_num = member.users_num +1\n",
    "       \n",
    "    \n",
    "\n",
    "    def full_name(self):\n",
    "        if self.fname in members.not_allowed_names:\n",
    "            raise ValueError(\"Name Not Allowed\")\n",
    "        else:\n",
    "            return f'{self.fname} {self.mname} {self.lname}'\n",
    "\n",
    "\n",
    "    def name_wz_title(self):\n",
    "        if self.gender == 'Male':\n",
    "            return f'Hello MR, {self.fname}'\n",
    "\n",
    "        elif self.gender == 'Female':\n",
    "            return f'Hello Miss, {self.fname}'\n",
    "\n",
    "        else:\n",
    "            return f'Hello, {self.fname}'\n",
    "\n",
    "\n",
    "    def get_all_info(self):\n",
    "        return f'{self.name_wz_title()}, your full name is {self.full_name()}'\n",
    "\n",
    "\n",
    "    def delete_user(self):\n",
    "        members.users_num -= 1 \n",
    "        return f'{self.fname} Deleted.'"
   ]
  },
  {
   "cell_type": "code",
   "execution_count": 213,
   "id": "8dfc35f3-6823-4e41-8b3e-086e91bb26ef",
   "metadata": {},
   "outputs": [],
   "source": [
    "member1 = members(\"Ahmed\",\"Ali\",\"Ziada\",\"Male\")\n",
    "member2 = members(\"Aya\",\"Ali\",\"Ziada\",\"Female\")\n",
    "member3 = members(\"Mohamed\",\"Ali\",\"Ziada\",\"Male\")"
   ]
  },
  {
   "cell_type": "code",
   "execution_count": 215,
   "id": "9aff2c45-3e75-4d03-b24f-0c20bd284fb0",
   "metadata": {},
   "outputs": [
    {
     "name": "stdout",
     "output_type": "stream",
     "text": [
      "3\n"
     ]
    }
   ],
   "source": [
    "print(members.users_num)"
   ]
  },
  {
   "cell_type": "code",
   "execution_count": 217,
   "id": "3ca80f8f-55ef-47d1-816d-c88462327f81",
   "metadata": {},
   "outputs": [
    {
     "data": {
      "text/plain": [
       "'Mohamed Deleted.'"
      ]
     },
     "execution_count": 217,
     "metadata": {},
     "output_type": "execute_result"
    }
   ],
   "source": [
    "member3.delete_user()"
   ]
  },
  {
   "cell_type": "code",
   "execution_count": 219,
   "id": "7a695ab4-d3a4-40bf-ad49-2578f478c3ec",
   "metadata": {},
   "outputs": [
    {
     "name": "stdout",
     "output_type": "stream",
     "text": [
      "2\n"
     ]
    }
   ],
   "source": [
    "print(members.users_num)"
   ]
  },
  {
   "cell_type": "markdown",
   "id": "1bbb2904-35d3-4a21-80cb-e7206fce5044",
   "metadata": {},
   "source": [
    "## Class Methods"
   ]
  },
  {
   "cell_type": "code",
   "execution_count": 234,
   "id": "bc31cbfb-3483-41c5-91ed-55d16ef43454",
   "metadata": {},
   "outputs": [],
   "source": [
    "class members:\n",
    "    not_allowed_names = [\"No\",\"Hell\",\"shit\"]\n",
    "    users_num = 0\n",
    "\n",
    "    @classmethod\n",
    "    def show_users_count(cls): # take cls parameter --> to point to the class\n",
    "        print(f'We have {cls.users_num} users in our sys')\n",
    "    \n",
    "    def __init__(self,f_name,m_name,l_name,gender):\n",
    "        self.fname = f_name\n",
    "        self.mname = m_name\n",
    "        self.lname = l_name\n",
    "        self.gender = gender\n",
    "        members.users_num +=1   #member.users_num = member.users_num +1\n",
    "       \n",
    "    \n",
    "\n",
    "    def full_name(self):\n",
    "        if self.fname in members.not_allowed_names:\n",
    "            raise ValueError(\"Name Not Allowed\")\n",
    "        else:\n",
    "            return f'{self.fname} {self.mname} {self.lname}'\n",
    "\n",
    "\n",
    "    def name_wz_title(self):\n",
    "        if self.gender == 'Male':\n",
    "            return f'Hello MR, {self.fname}'\n",
    "\n",
    "        elif self.gender == 'Female':\n",
    "            return f'Hello Miss, {self.fname}'\n",
    "\n",
    "        else:\n",
    "            return f'Hello, {self.fname}'\n",
    "\n",
    "\n",
    "    def get_all_info(self):\n",
    "        return f'{self.name_wz_title()}, your full name is {self.full_name()}'\n",
    "\n",
    "\n",
    "    def delete_user(self):\n",
    "        members.users_num -= 1 \n",
    "        return f'{self.fname} Deleted.'"
   ]
  },
  {
   "cell_type": "code",
   "execution_count": 244,
   "id": "40c898a7-99e7-47c9-b325-35b48fe94375",
   "metadata": {},
   "outputs": [],
   "source": [
    "member1 = members(\"Ahmed\",\"Ali\",\"Ziada\",\"Male\")\n",
    "member2 = members(\"Aya\",\"Ali\",\"Ziada\",\"Female\")\n",
    "member3 = members(\"Mohamed\",\"Ali\",\"Ziada\",\"Male\")"
   ]
  },
  {
   "cell_type": "code",
   "execution_count": 242,
   "id": "8c4b630c-5270-40b0-8e20-baf85263b678",
   "metadata": {},
   "outputs": [
    {
     "name": "stdout",
     "output_type": "stream",
     "text": [
      "3\n",
      "Mohamed Deleted.\n",
      "--------------------\n",
      "We have 2 users in our sys\n"
     ]
    }
   ],
   "source": [
    "print(members.users_num)\n",
    "print(member3.delete_user())\n",
    "print('-'*20)\n",
    "members.show_users_count()"
   ]
  },
  {
   "cell_type": "code",
   "execution_count": 252,
   "id": "3970fb3e-fee1-45d3-b2bf-96097b96a27d",
   "metadata": {},
   "outputs": [
    {
     "name": "stdout",
     "output_type": "stream",
     "text": [
      "Mohamed Ali Ziada\n",
      "Mohamed Ali Ziada\n"
     ]
    }
   ],
   "source": [
    "print(member3.full_name()) # what u type\n",
    "print(members.full_name(member3))  # what the python did in the background"
   ]
  },
  {
   "cell_type": "markdown",
   "id": "21a6622b-73ae-42ae-bfc0-f89de9460c47",
   "metadata": {},
   "source": [
    "## Static Methods"
   ]
  },
  {
   "cell_type": "code",
   "execution_count": 259,
   "id": "886ecf1c-a0b1-4269-b6a2-52f6a6d58149",
   "metadata": {},
   "outputs": [],
   "source": [
    "class members:\n",
    "    not_allowed_names = [\"No\",\"Hell\",\"shit\"]\n",
    "    users_num = 0\n",
    "\n",
    "    @classmethod\n",
    "    def show_users_count(cls): # take cls parameter --> to point to the class\n",
    "        print(f'We have {cls.users_num} users in our sys')\n",
    "\n",
    "    @staticmethod\n",
    "    def help(): # takes no parameters\n",
    "        print('this is a members class , takes 4 param [f_name,m_name,l_name,gender]')\n",
    "\n",
    "    \n",
    "    def __init__(self,f_name,m_name,l_name,gender):\n",
    "        self.fname = f_name\n",
    "        self.mname = m_name\n",
    "        self.lname = l_name\n",
    "        self.gender = gender\n",
    "        members.users_num +=1   #member.users_num = member.users_num +1\n",
    "       \n",
    "    \n",
    "\n",
    "    def full_name(self):\n",
    "        if self.fname in members.not_allowed_names:\n",
    "            raise ValueError(\"Name Not Allowed\")\n",
    "        else:\n",
    "            return f'{self.fname} {self.mname} {self.lname}'\n",
    "\n",
    "\n",
    "    def name_wz_title(self):\n",
    "        if self.gender == 'Male':\n",
    "            return f'Hello MR, {self.fname}'\n",
    "\n",
    "        elif self.gender == 'Female':\n",
    "            return f'Hello Miss, {self.fname}'\n",
    "\n",
    "        else:\n",
    "            return f'Hello, {self.fname}'\n",
    "\n",
    "\n",
    "    def get_all_info(self):\n",
    "        return f'{self.name_wz_title()}, your full name is {self.full_name()}'\n",
    "\n",
    "\n",
    "    def delete_user(self):\n",
    "        members.users_num -= 1 \n",
    "        return f'{self.fname} Deleted.'"
   ]
  },
  {
   "cell_type": "code",
   "execution_count": 261,
   "id": "d8a407be-fc61-4f7e-bc59-92a9e2b6658a",
   "metadata": {},
   "outputs": [
    {
     "name": "stdout",
     "output_type": "stream",
     "text": [
      "this is a members class , takes 4 param [f_name,m_name,l_name,gender]\n"
     ]
    }
   ],
   "source": [
    "members.help()"
   ]
  },
  {
   "cell_type": "markdown",
   "id": "6a77d44e-a49c-441d-b293-3272e93d7ba4",
   "metadata": {},
   "source": [
    "## Magic Methods"
   ]
  },
  {
   "cell_type": "code",
   "execution_count": null,
   "id": "bac37db8-3ab5-4f1a-b3ff-ce5d37169247",
   "metadata": {},
   "outputs": [],
   "source": [
    "# __init__ --> called Automaticlly when instantiating the class\n",
    "# self.__class__ --> which class --instance belnogs\n",
    "#__len__ --> return the lenght of the constractor , when calling the built in func --> len()"
   ]
  },
  {
   "cell_type": "code",
   "execution_count": 275,
   "id": "bea9d591-2d0e-4ada-886c-fa9730d2a13b",
   "metadata": {},
   "outputs": [],
   "source": [
    "class skill:\n",
    "\n",
    "    def __init__(self):\n",
    "        self.skills = ['Python','AI','DL']"
   ]
  },
  {
   "cell_type": "code",
   "execution_count": 277,
   "id": "ec2d008a-a3ba-466e-9176-bfc8d3b84457",
   "metadata": {},
   "outputs": [],
   "source": [
    "profile = skill()"
   ]
  },
  {
   "cell_type": "code",
   "execution_count": 279,
   "id": "625c2fe8-0ad6-48b2-9628-0757f90e2be0",
   "metadata": {},
   "outputs": [
    {
     "data": {
      "text/plain": [
       "<__main__.skill at 0x1431f372a50>"
      ]
     },
     "execution_count": 279,
     "metadata": {},
     "output_type": "execute_result"
    }
   ],
   "source": [
    "profile"
   ]
  },
  {
   "cell_type": "code",
   "execution_count": 281,
   "id": "0cc9058c-ee30-441f-8f57-eb9e7085f55d",
   "metadata": {},
   "outputs": [
    {
     "data": {
      "text/plain": [
       "__main__.skill"
      ]
     },
     "execution_count": 281,
     "metadata": {},
     "output_type": "execute_result"
    }
   ],
   "source": [
    "profile.__class__"
   ]
  },
  {
   "cell_type": "code",
   "execution_count": 285,
   "id": "9f007a4c-497c-44b6-9d58-f542ced48400",
   "metadata": {},
   "outputs": [
    {
     "name": "stdout",
     "output_type": "stream",
     "text": [
      "['__class__', '__delattr__', '__dict__', '__dir__', '__doc__', '__eq__', '__format__', '__ge__', '__getattribute__', '__getstate__', '__gt__', '__hash__', '__init__', '__init_subclass__', '__le__', '__lt__', '__module__', '__ne__', '__new__', '__reduce__', '__reduce_ex__', '__repr__', '__setattr__', '__sizeof__', '__str__', '__subclasshook__', '__weakref__', 'skills']\n"
     ]
    }
   ],
   "source": [
    "print(dir(profile))"
   ]
  },
  {
   "cell_type": "code",
   "execution_count": 287,
   "id": "2c943fbd-da56-4f60-9ce9-9b6b372ae450",
   "metadata": {},
   "outputs": [],
   "source": [
    "name = 'Ahmed'"
   ]
  },
  {
   "cell_type": "code",
   "execution_count": 291,
   "id": "095b9f34-df93-4ff8-b622-c010d6795b64",
   "metadata": {},
   "outputs": [
    {
     "name": "stdout",
     "output_type": "stream",
     "text": [
      "<class 'str'>\n"
     ]
    }
   ],
   "source": [
    "print(type(name))"
   ]
  },
  {
   "cell_type": "code",
   "execution_count": 293,
   "id": "f1d5078e-6dc6-441f-a28a-5fa7e8b4932f",
   "metadata": {},
   "outputs": [
    {
     "name": "stdout",
     "output_type": "stream",
     "text": [
      "['__add__', '__class__', '__contains__', '__delattr__', '__dir__', '__doc__', '__eq__', '__format__', '__ge__', '__getattribute__', '__getitem__', '__getnewargs__', '__getstate__', '__gt__', '__hash__', '__init__', '__init_subclass__', '__iter__', '__le__', '__len__', '__lt__', '__mod__', '__mul__', '__ne__', '__new__', '__reduce__', '__reduce_ex__', '__repr__', '__rmod__', '__rmul__', '__setattr__', '__sizeof__', '__str__', '__subclasshook__', 'capitalize', 'casefold', 'center', 'count', 'encode', 'endswith', 'expandtabs', 'find', 'format', 'format_map', 'index', 'isalnum', 'isalpha', 'isascii', 'isdecimal', 'isdigit', 'isidentifier', 'islower', 'isnumeric', 'isprintable', 'isspace', 'istitle', 'isupper', 'join', 'ljust', 'lower', 'lstrip', 'maketrans', 'partition', 'removeprefix', 'removesuffix', 'replace', 'rfind', 'rindex', 'rjust', 'rpartition', 'rsplit', 'rstrip', 'split', 'splitlines', 'startswith', 'strip', 'swapcase', 'title', 'translate', 'upper', 'zfill']\n"
     ]
    }
   ],
   "source": [
    "print(dir(str))"
   ]
  },
  {
   "cell_type": "code",
   "execution_count": 295,
   "id": "99cee1bf-47b1-4937-bf0a-5f329b8dcaa0",
   "metadata": {},
   "outputs": [
    {
     "data": {
      "text/plain": [
       "'AHMED'"
      ]
     },
     "execution_count": 295,
     "metadata": {},
     "output_type": "execute_result"
    }
   ],
   "source": [
    "name.upper() # what u type"
   ]
  },
  {
   "cell_type": "code",
   "execution_count": 299,
   "id": "341f2cd4-d86b-4a8d-b6ad-cfb35b93c684",
   "metadata": {},
   "outputs": [],
   "source": [
    "class skill:\n",
    "\n",
    "    def __init__(self):\n",
    "        self.skills = ['Python','AI','DL']\n",
    "\n",
    "\n",
    "    def __str__(self):\n",
    "        return f'Here are you skills => {self.skills}'"
   ]
  },
  {
   "cell_type": "code",
   "execution_count": 301,
   "id": "56f6c5dc-85c9-44e2-bdd8-28d6bc68280f",
   "metadata": {},
   "outputs": [],
   "source": [
    "profile = skill()"
   ]
  },
  {
   "cell_type": "code",
   "execution_count": 303,
   "id": "3600c910-f090-4065-a779-fd30bf201a65",
   "metadata": {},
   "outputs": [
    {
     "name": "stdout",
     "output_type": "stream",
     "text": [
      "Here are you skills => ['Python', 'AI', 'DL']\n"
     ]
    }
   ],
   "source": [
    "print(profile)"
   ]
  },
  {
   "cell_type": "code",
   "execution_count": 305,
   "id": "73591e21-5101-4070-962d-fe8bb0dce6f8",
   "metadata": {},
   "outputs": [
    {
     "ename": "TypeError",
     "evalue": "object of type 'skill' has no len()",
     "output_type": "error",
     "traceback": [
      "\u001b[1;31m---------------------------------------------------------------------------\u001b[0m",
      "\u001b[1;31mTypeError\u001b[0m                                 Traceback (most recent call last)",
      "Cell \u001b[1;32mIn[305], line 1\u001b[0m\n\u001b[1;32m----> 1\u001b[0m \u001b[38;5;28mprint\u001b[39m(\u001b[38;5;28mlen\u001b[39m(profile))\n",
      "\u001b[1;31mTypeError\u001b[0m: object of type 'skill' has no len()"
     ]
    }
   ],
   "source": [
    "print(len(profile))"
   ]
  },
  {
   "cell_type": "code",
   "execution_count": 307,
   "id": "5e855717-bdd5-4d91-9c6f-521bf316d861",
   "metadata": {},
   "outputs": [],
   "source": [
    "class skill:\n",
    "\n",
    "    def __init__(self):\n",
    "        self.skills = ['Python','AI','DL']\n",
    "\n",
    "\n",
    "    def __str__(self):\n",
    "        return f'Here are you skills => {self.skills}'\n",
    "\n",
    "\n",
    "    def __len__(self):\n",
    "        return len(self.skills)"
   ]
  },
  {
   "cell_type": "code",
   "execution_count": 309,
   "id": "363abe4b-59ca-4b9b-a408-43a2d7c257d5",
   "metadata": {},
   "outputs": [
    {
     "name": "stdout",
     "output_type": "stream",
     "text": [
      "3\n"
     ]
    }
   ],
   "source": [
    "profile = skill()\n",
    "print(len(profile))"
   ]
  },
  {
   "cell_type": "code",
   "execution_count": 313,
   "id": "f0bc74ec-cd4d-4aa6-a219-e74cc4251bbf",
   "metadata": {},
   "outputs": [
    {
     "data": {
      "text/plain": [
       "list"
      ]
     },
     "execution_count": 313,
     "metadata": {},
     "output_type": "execute_result"
    }
   ],
   "source": [
    "type(profile.skills)"
   ]
  },
  {
   "cell_type": "code",
   "execution_count": 315,
   "id": "bb89dfa8-0e99-41b4-b001-7c3be8f29cee",
   "metadata": {},
   "outputs": [],
   "source": [
    "profile.skills.append('PHP')\n",
    "profile.skills.append('SQL')"
   ]
  },
  {
   "cell_type": "code",
   "execution_count": 317,
   "id": "cc302635-0d82-4e29-9b9e-da5549de8448",
   "metadata": {},
   "outputs": [
    {
     "name": "stdout",
     "output_type": "stream",
     "text": [
      "5\n"
     ]
    }
   ],
   "source": [
    "print(len(profile))"
   ]
  },
  {
   "cell_type": "code",
   "execution_count": null,
   "id": "99b11d36-743f-40ca-ac41-f0475e153da6",
   "metadata": {},
   "outputs": [],
   "source": []
  }
 ],
 "metadata": {
  "kernelspec": {
   "display_name": "Python 3 (ipykernel)",
   "language": "python",
   "name": "python3"
  },
  "language_info": {
   "codemirror_mode": {
    "name": "ipython",
    "version": 3
   },
   "file_extension": ".py",
   "mimetype": "text/x-python",
   "name": "python",
   "nbconvert_exporter": "python",
   "pygments_lexer": "ipython3",
   "version": "3.12.4"
  }
 },
 "nbformat": 4,
 "nbformat_minor": 5
}
