{
 "cells": [
  {
   "cell_type": "markdown",
   "id": "604c5709-1a50-4598-ae63-ac7f7adee0a5",
   "metadata": {},
   "source": [
    "## Magic Functions "
   ]
  },
  {
   "cell_type": "code",
   "execution_count": 1,
   "id": "c064e47a-ab1c-4628-801b-231ff963f7a4",
   "metadata": {},
   "outputs": [],
   "source": [
    "# implementing the class\n",
    "class skill:\n",
    "\n",
    "    def __init__(self):\n",
    "        self.skills = [\"python\",\"ML\",'DL']\n",
    "\n",
    "    def __str__(self):\n",
    "        return f'This is my skills : {self.skills}'\n",
    "\n",
    "    def __len__(self):\n",
    "        return len(self.skills)"
   ]
  },
  {
   "cell_type": "code",
   "execution_count": 5,
   "id": "700f1d4e-ddbb-4c67-855f-0cb77b16db52",
   "metadata": {},
   "outputs": [
    {
     "name": "stdout",
     "output_type": "stream",
     "text": [
      "This is my skills : ['python', 'ML', 'DL']\n"
     ]
    }
   ],
   "source": [
    "#using for the class\n",
    "profile = skill()\n",
    "print(profile)"
   ]
  },
  {
   "cell_type": "code",
   "execution_count": 16,
   "id": "08af9869-c1c8-4c4f-b4a3-6f5a3faf85c9",
   "metadata": {},
   "outputs": [],
   "source": [
    "x = skill()"
   ]
  },
  {
   "cell_type": "code",
   "execution_count": 7,
   "id": "b5a2975a-ffb7-494c-ac46-4e40d90eb0b4",
   "metadata": {},
   "outputs": [
    {
     "name": "stdout",
     "output_type": "stream",
     "text": [
      "3\n"
     ]
    }
   ],
   "source": [
    "print(len(profile))"
   ]
  },
  {
   "cell_type": "code",
   "execution_count": 56,
   "id": "40ee43be-a894-426e-9c46-46e65a1a8e2a",
   "metadata": {},
   "outputs": [],
   "source": [
    "class operations:\n",
    "\n",
    "    def __init__(self,value):\n",
    "        self.value = value\n",
    "        print('Current value: ',self.value )\n",
    "\n",
    "    # return a new operations object with the sum of the values\n",
    "    def __add__(self, other):\n",
    "        return operations(self.value + other.value)\n",
    "\n",
    "    def __sub__(self, other):\n",
    "        return operations(self.value - other.value)\n",
    "\n",
    "    def __eq__(self, other):\n",
    "        return self.value == other.value\n",
    "\n",
    "\n",
    "    def __lt__(self, other):\n",
    "        return self.value < other.value\n",
    "\n",
    "    def __gt__(self, other):\n",
    "        return self.value > other.value\n",
    "\n",
    "    def __len__(self):\n",
    "        return len(str(self.value))\n",
    "    \n",
    "    def __str__(self):\n",
    "        return f'Value is {self.value}'"
   ]
  },
  {
   "cell_type": "code",
   "execution_count": 58,
   "id": "c789b93f-f7f4-4b1e-9fbc-bb95c3eeb38a",
   "metadata": {},
   "outputs": [
    {
     "name": "stdout",
     "output_type": "stream",
     "text": [
      "Current value:  10\n",
      "Current value:  20\n"
     ]
    }
   ],
   "source": [
    "x = operations(10)\n",
    "y = operations(20)"
   ]
  },
  {
   "cell_type": "code",
   "execution_count": 60,
   "id": "4350f5c9-344e-4a0c-9742-6cb7526a1c67",
   "metadata": {},
   "outputs": [
    {
     "name": "stdout",
     "output_type": "stream",
     "text": [
      "Current value:  30\n",
      "Value is 30\n"
     ]
    }
   ],
   "source": [
    "print(x + y)"
   ]
  },
  {
   "cell_type": "code",
   "execution_count": 62,
   "id": "6bb46763-52d8-490d-8c56-806ce0f2e93b",
   "metadata": {},
   "outputs": [
    {
     "name": "stdout",
     "output_type": "stream",
     "text": [
      "Current value:  -10\n",
      "Value is -10\n"
     ]
    }
   ],
   "source": [
    "print(x - y)"
   ]
  },
  {
   "cell_type": "code",
   "execution_count": 68,
   "id": "ef639f7f-fa89-4e3c-bd6c-adee1950622c",
   "metadata": {},
   "outputs": [
    {
     "name": "stdout",
     "output_type": "stream",
     "text": [
      "False\n"
     ]
    }
   ],
   "source": [
    "print(x == y)"
   ]
  },
  {
   "cell_type": "code",
   "execution_count": 70,
   "id": "7577d891-ba33-4da4-8fe9-2c8a7b0e65fd",
   "metadata": {},
   "outputs": [
    {
     "name": "stdout",
     "output_type": "stream",
     "text": [
      "True\n",
      "False\n"
     ]
    }
   ],
   "source": [
    "print(x < y)\n",
    "print(x > y)"
   ]
  },
  {
   "cell_type": "code",
   "execution_count": 72,
   "id": "35ad188c-2eb8-42a9-838d-f87d758b43d2",
   "metadata": {},
   "outputs": [
    {
     "name": "stdout",
     "output_type": "stream",
     "text": [
      "2\n",
      "2\n"
     ]
    }
   ],
   "source": [
    "print(len(x))\n",
    "print(len(y))"
   ]
  },
  {
   "cell_type": "code",
   "execution_count": 74,
   "id": "e8489fe4-2bef-4d73-ac21-c16dff379681",
   "metadata": {},
   "outputs": [
    {
     "name": "stdout",
     "output_type": "stream",
     "text": [
      "Value is 10\n"
     ]
    }
   ],
   "source": [
    "print(x)"
   ]
  },
  {
   "cell_type": "markdown",
   "id": "f8c18a9d-c43a-413d-af0f-54e5d36fed8b",
   "metadata": {},
   "source": [
    "## Can I use class inside other class??"
   ]
  },
  {
   "cell_type": "code",
   "execution_count": 84,
   "id": "bbee0bf0-12a6-4507-a476-7e04a3546b00",
   "metadata": {},
   "outputs": [],
   "source": [
    "class Book:\n",
    "    def __init__(self, title, authour):\n",
    "        self.title = title\n",
    "        self.authour = authour"
   ]
  },
  {
   "cell_type": "code",
   "execution_count": 86,
   "id": "33c5c16b-3294-4674-985c-77cbab30e9b1",
   "metadata": {},
   "outputs": [],
   "source": [
    "class Library:\n",
    "\n",
    "    def __init__(self):\n",
    "        self.books_list = []\n",
    "\n",
    "\n",
    "    def add_book(self, title , authour):\n",
    "        new_book = Book(title,authour)\n",
    "        self.books_list.append(new_book)\n",
    "\n",
    "\n",
    "    def remove_book(self,title_to_remove):\n",
    "        for book in self.books_list :\n",
    "            if book.title == title_to_remove:\n",
    "                self.books_list.remove(book)\n",
    "\n",
    "\n",
    "    def disply(self):\n",
    "        for book in self.books_list:\n",
    "            print(\"Author name: \", book.authour, \"Book Title: \", book.title)"
   ]
  },
  {
   "cell_type": "code",
   "execution_count": 88,
   "id": "535e75cd-2d5d-487a-ae05-a9224fc54a87",
   "metadata": {},
   "outputs": [],
   "source": [
    "l = Library()"
   ]
  },
  {
   "cell_type": "code",
   "execution_count": 94,
   "id": "54602be6-5284-4fc6-b51b-08f1be421cd4",
   "metadata": {},
   "outputs": [],
   "source": [
    "l.add_book('Book1','authour1')\n",
    "l.add_book('Book2','authour2')\n",
    "l.add_book('Book3','authour3')"
   ]
  },
  {
   "cell_type": "code",
   "execution_count": 98,
   "id": "4e7dc7f6-e774-461d-b0f3-765e1d4a4806",
   "metadata": {},
   "outputs": [
    {
     "name": "stdout",
     "output_type": "stream",
     "text": [
      "Author name:  authour1 Book Title:  Book1\n",
      "Author name:  authour2 Book Title:  Book2\n",
      "Author name:  authour3 Book Title:  Book3\n"
     ]
    }
   ],
   "source": [
    "l.disply()"
   ]
  },
  {
   "cell_type": "code",
   "execution_count": 102,
   "id": "cb5f01e5-8cef-42a5-a5c6-e5964bd9ede3",
   "metadata": {},
   "outputs": [],
   "source": [
    "l.remove_book('Book2')"
   ]
  },
  {
   "cell_type": "code",
   "execution_count": 104,
   "id": "b4276449-c59d-45ae-bb86-fc9e7739b475",
   "metadata": {},
   "outputs": [
    {
     "name": "stdout",
     "output_type": "stream",
     "text": [
      "Author name:  authour1 Book Title:  Book1\n",
      "Author name:  authour3 Book Title:  Book3\n"
     ]
    }
   ],
   "source": [
    "l.disply()"
   ]
  },
  {
   "cell_type": "markdown",
   "id": "1826ec47-e986-4e78-bef6-a21088317d83",
   "metadata": {},
   "source": [
    "## Inheritance"
   ]
  },
  {
   "cell_type": "code",
   "execution_count": 120,
   "id": "d05b1a48-7d90-4f4f-8bd4-869a323ce81f",
   "metadata": {},
   "outputs": [],
   "source": [
    "class Animal:  # Parent Class\n",
    "    def __init__(self, name):\n",
    "        self.name = name\n",
    "\n",
    "\n",
    "    def sond(self):\n",
    "        print('can make sound')\n",
    "\n",
    "    def __str__(self):\n",
    "        return f'Animal name is {self.name}'"
   ]
  },
  {
   "cell_type": "code",
   "execution_count": 122,
   "id": "da850187-9405-4637-be63-b4370af575b2",
   "metadata": {},
   "outputs": [],
   "source": [
    "class Dog(Animal): #Child Class --> inherit Animal Class\n",
    "\n",
    "    def walk(self):\n",
    "        print('Can walk')\n",
    "\n",
    "    def sond(self):\n",
    "        print('can make sound')"
   ]
  },
  {
   "cell_type": "code",
   "execution_count": 126,
   "id": "179ea5e8-ab7a-4ee0-81e8-694d2d6916fb",
   "metadata": {},
   "outputs": [],
   "source": [
    "d1 = Dog('rooy')"
   ]
  },
  {
   "cell_type": "code",
   "execution_count": 128,
   "id": "da511759-4068-44f4-a804-4bf373eaafb3",
   "metadata": {},
   "outputs": [
    {
     "name": "stdout",
     "output_type": "stream",
     "text": [
      "Animal name is rooy\n"
     ]
    }
   ],
   "source": [
    "print(d1)"
   ]
  },
  {
   "cell_type": "code",
   "execution_count": 130,
   "id": "9e2812fc-0550-4da8-879f-24822de331c7",
   "metadata": {},
   "outputs": [
    {
     "name": "stdout",
     "output_type": "stream",
     "text": [
      "can make sound\n"
     ]
    }
   ],
   "source": [
    "d1.sond()"
   ]
  },
  {
   "cell_type": "code",
   "execution_count": 134,
   "id": "3b175055-e837-4a8c-9f61-532396432b5a",
   "metadata": {},
   "outputs": [
    {
     "name": "stdout",
     "output_type": "stream",
     "text": [
      "Can walk\n"
     ]
    }
   ],
   "source": [
    "d1.walk()"
   ]
  },
  {
   "cell_type": "code",
   "execution_count": 136,
   "id": "7cd1a636-206a-49c5-af93-374eb828254d",
   "metadata": {},
   "outputs": [],
   "source": [
    "class cat(Animal): #Child Class --> inherit Animal Class\n",
    "\n",
    "    def own_sound(self):\n",
    "        print('Meow')"
   ]
  },
  {
   "cell_type": "code",
   "execution_count": 140,
   "id": "bab77a5b-2dcd-43bf-b44e-716ed5e40875",
   "metadata": {},
   "outputs": [],
   "source": [
    "c = cat('tom')"
   ]
  },
  {
   "cell_type": "code",
   "execution_count": 142,
   "id": "1a7a1585-51d6-4245-afab-7e46eaf800f3",
   "metadata": {},
   "outputs": [
    {
     "name": "stdout",
     "output_type": "stream",
     "text": [
      "Animal name is tom\n"
     ]
    }
   ],
   "source": [
    "print(c)"
   ]
  },
  {
   "cell_type": "code",
   "execution_count": 144,
   "id": "c702499a-54c3-4d13-8e37-8a20e4722690",
   "metadata": {},
   "outputs": [
    {
     "name": "stdout",
     "output_type": "stream",
     "text": [
      "Meow\n"
     ]
    }
   ],
   "source": [
    "c.own_sound()"
   ]
  },
  {
   "cell_type": "raw",
   "id": "f0b4f6e7-52c2-4704-b9dc-43fd26477cff",
   "metadata": {},
   "source": [
    "#### Task\n",
    "--> Parent class [Preson] => Att = (Name) , Methods = (welcome)\n",
    "        --> child class [employee] = Methods = (add_bouns)"
   ]
  },
  {
   "cell_type": "code",
   "execution_count": 171,
   "id": "755f4f01-a592-4556-b041-b42cf34fca51",
   "metadata": {},
   "outputs": [],
   "source": [
    "class person:\n",
    "    def __init__(self,name):\n",
    "        self.name = name\n",
    "\n",
    "    def weclome(self):\n",
    "        print('Welcome',self.name )"
   ]
  },
  {
   "cell_type": "code",
   "execution_count": 175,
   "id": "942d1b25-ab0e-4267-a817-35c25a3e48dc",
   "metadata": {},
   "outputs": [],
   "source": [
    "class employee(person):\n",
    "    def __init__(self,name, salary):\n",
    "        super().__init__(name)\n",
    "        self.salary = salary\n",
    "    \n",
    "    def add_bouns(self, bouns):\n",
    "        self.salary = self.salary + bouns\n",
    "        \n",
    "        print('salary after bouns is ',self.salary)"
   ]
  },
  {
   "cell_type": "code",
   "execution_count": 179,
   "id": "41406478-a27c-446b-b02f-bbc42d483923",
   "metadata": {},
   "outputs": [],
   "source": [
    "e = employee('ahmed', 1000)"
   ]
  },
  {
   "cell_type": "code",
   "execution_count": 181,
   "id": "c445d3e6-3afb-4fb6-b2dd-d153bf9bfec4",
   "metadata": {},
   "outputs": [
    {
     "name": "stdout",
     "output_type": "stream",
     "text": [
      "salary after bouns is  2000\n"
     ]
    }
   ],
   "source": [
    "e.add_bouns(1000)"
   ]
  },
  {
   "cell_type": "code",
   "execution_count": 185,
   "id": "d81a8b52-6d5c-4b61-bf65-3c87ee7d76f8",
   "metadata": {},
   "outputs": [],
   "source": [
    "P = person('omar')"
   ]
  },
  {
   "cell_type": "code",
   "execution_count": 187,
   "id": "e79c24aa-c5c3-48f5-9f0f-ddfbc30b85a4",
   "metadata": {},
   "outputs": [],
   "source": [
    "class manager(employee):\n",
    "    pass"
   ]
  },
  {
   "cell_type": "code",
   "execution_count": 189,
   "id": "461264cb-5d11-4ca2-aecb-56c97256a62d",
   "metadata": {},
   "outputs": [],
   "source": [
    "m1 = manager('said', 5000)"
   ]
  },
  {
   "cell_type": "code",
   "execution_count": 193,
   "id": "f72d2bf3-368e-455e-ba6a-2be0bcf3b434",
   "metadata": {},
   "outputs": [
    {
     "name": "stdout",
     "output_type": "stream",
     "text": [
      "Welcome said\n"
     ]
    }
   ],
   "source": [
    "m1.weclome()"
   ]
  },
  {
   "cell_type": "code",
   "execution_count": 195,
   "id": "74d9357d-b974-45c2-83c7-a2a09805093f",
   "metadata": {},
   "outputs": [
    {
     "name": "stdout",
     "output_type": "stream",
     "text": [
      "salary after bouns is  6000\n"
     ]
    }
   ],
   "source": [
    "m1.add_bouns(1000)"
   ]
  },
  {
   "cell_type": "markdown",
   "id": "73599762-b5f3-4add-90dd-665b83c114e8",
   "metadata": {},
   "source": [
    "## Ploymorphism"
   ]
  },
  {
   "cell_type": "code",
   "execution_count": null,
   "id": "fda07ec2-9318-4416-844a-cc4bdcbb7b1d",
   "metadata": {},
   "outputs": [],
   "source": [
    "# One interface --> with multiple implementations"
   ]
  },
  {
   "cell_type": "code",
   "execution_count": 208,
   "id": "f69b9b7b-37ea-4b77-9eea-7ddd1c8c8655",
   "metadata": {},
   "outputs": [
    {
     "name": "stdout",
     "output_type": "stream",
     "text": [
      "3\n"
     ]
    }
   ],
   "source": [
    "n1 = 1\n",
    "n2 = 2\n",
    "print(n1+n2)"
   ]
  },
  {
   "cell_type": "code",
   "execution_count": 212,
   "id": "ab11e187-eaa9-449d-bc10-1215a6df592f",
   "metadata": {},
   "outputs": [
    {
     "name": "stdout",
     "output_type": "stream",
     "text": [
      "Hello Python\n"
     ]
    }
   ],
   "source": [
    "s1 = \"Hello\"\n",
    "s2 = \"Python\"\n",
    "print(s1+' '+s2)"
   ]
  },
  {
   "cell_type": "code",
   "execution_count": 214,
   "id": "f96f6926-69ce-492a-90f5-b2dd6f353a9d",
   "metadata": {},
   "outputs": [
    {
     "name": "stdout",
     "output_type": "stream",
     "text": [
      "7\n",
      "12\n",
      "2\n"
     ]
    }
   ],
   "source": [
    "print(len([1,2,3,4,5,6,7]))\n",
    "print(len('Hello Python'))\n",
    "print(len({'k1':1, 'k2':2}))"
   ]
  },
  {
   "cell_type": "code",
   "execution_count": 218,
   "id": "313cc841-e756-4739-81cc-fe3f40801311",
   "metadata": {},
   "outputs": [],
   "source": [
    "class shape:\n",
    "    def area(self): # shape --> defines the area method, which is a common interface foer all shapes\n",
    "        pass\n",
    "\n",
    "class square(shape):\n",
    "    def __init__(self,side):\n",
    "        self.side = side\n",
    "\n",
    "    def area(self): #override the are func\n",
    "        return self.side ** 2\n",
    "\n",
    "class CIRCLE(shape):\n",
    "    def __init__(self,r):\n",
    "        self.r = r\n",
    "\n",
    "    def area(self):#override the are func\n",
    "        return 3.14 * self.r **2\n",
    "    "
   ]
  },
  {
   "cell_type": "code",
   "execution_count": 220,
   "id": "43516a96-5391-4ba5-813f-c2e01e9499a9",
   "metadata": {},
   "outputs": [],
   "source": [
    "square1 = square(4)\n",
    "circle1 =CIRCLE(3)"
   ]
  },
  {
   "cell_type": "code",
   "execution_count": 222,
   "id": "8500d7ca-e8da-4606-9040-b5f58008df45",
   "metadata": {},
   "outputs": [
    {
     "name": "stdout",
     "output_type": "stream",
     "text": [
      "16\n",
      "28.26\n"
     ]
    }
   ],
   "source": [
    "print(square1.area())\n",
    "print(circle1.area())"
   ]
  },
  {
   "cell_type": "markdown",
   "id": "4917b878-131b-4898-8d5e-79f88c5fc61a",
   "metadata": {},
   "source": [
    "## Encapsulation "
   ]
  },
  {
   "cell_type": "code",
   "execution_count": null,
   "id": "3f80b88a-d1aa-47da-824e-8aad2342dd8b",
   "metadata": {},
   "outputs": [],
   "source": [
    "# Restrict Access to  the data stored in Attributes and methods"
   ]
  },
  {
   "cell_type": "code",
   "execution_count": null,
   "id": "2f61b039-45b0-4a1b-9b67-b83ab4ab1f92",
   "metadata": {},
   "outputs": [],
   "source": [
    "#Access Modifiers\n",
    "#1 - Public\n",
    "#2- Protected \n",
    "#3- Private"
   ]
  },
  {
   "cell_type": "code",
   "execution_count": 225,
   "id": "928b3f8c-06e4-4909-a4f7-2273ebf4111e",
   "metadata": {},
   "outputs": [],
   "source": [
    "#1 - Public\n",
    "# every Attribute and methods that we used so fas is public\n",
    "#every Attribute and methods  can me modified and run from everywhere\n",
    "class member:\n",
    "    def __init__(self,name):\n",
    "        self.name = name #public"
   ]
  },
  {
   "cell_type": "code",
   "execution_count": 227,
   "id": "0f5ce55c-07a9-4368-a7de-7c47a2944613",
   "metadata": {},
   "outputs": [],
   "source": [
    "# can view it \n",
    "one = member('Ahmed')"
   ]
  },
  {
   "cell_type": "code",
   "execution_count": 229,
   "id": "161d05f0-4bbf-4da1-950b-21251ffba0db",
   "metadata": {},
   "outputs": [
    {
     "data": {
      "text/plain": [
       "'Ahmed'"
      ]
     },
     "execution_count": 229,
     "metadata": {},
     "output_type": "execute_result"
    }
   ],
   "source": [
    "one.name"
   ]
  },
  {
   "cell_type": "code",
   "execution_count": 233,
   "id": "32b6d9c2-4701-44ec-b963-c67d69d9f3c9",
   "metadata": {},
   "outputs": [],
   "source": [
    "# can edit it \n",
    "one.name = 'sayid'"
   ]
  },
  {
   "cell_type": "code",
   "execution_count": 235,
   "id": "a2ca9c79-58b2-4e40-99c9-cde6d032d95e",
   "metadata": {},
   "outputs": [
    {
     "data": {
      "text/plain": [
       "'sayid'"
      ]
     },
     "execution_count": 235,
     "metadata": {},
     "output_type": "execute_result"
    }
   ],
   "source": [
    "one.name"
   ]
  },
  {
   "cell_type": "code",
   "execution_count": 244,
   "id": "0e70da37-3a0c-464a-b584-2e4fbc6b151e",
   "metadata": {},
   "outputs": [],
   "source": [
    "#2- Protected\n",
    "\n",
    "class member:\n",
    "    def __init__(self,name):\n",
    "        self._name = name #Protected"
   ]
  },
  {
   "cell_type": "code",
   "execution_count": 246,
   "id": "9f8786e3-ef12-4191-bcff-c24050323d5e",
   "metadata": {},
   "outputs": [],
   "source": [
    "two =  member('Ahmed')"
   ]
  },
  {
   "cell_type": "code",
   "execution_count": 250,
   "id": "e0d61afa-00b9-4799-a3cb-6ed9545d3d39",
   "metadata": {},
   "outputs": [
    {
     "data": {
      "text/plain": [
       "'Ahmed'"
      ]
     },
     "execution_count": 250,
     "metadata": {},
     "output_type": "execute_result"
    }
   ],
   "source": [
    "# can view it \n",
    "two._name"
   ]
  },
  {
   "cell_type": "code",
   "execution_count": 252,
   "id": "909c4c8a-ffd2-44c8-8397-2a616d5aae37",
   "metadata": {},
   "outputs": [],
   "source": [
    "#But we can NOT edit it \n",
    "#BUT ---> in python we can \n",
    "two._name = 'said'"
   ]
  },
  {
   "cell_type": "code",
   "execution_count": 254,
   "id": "0755cc96-cf6d-410d-b00f-a99ef1ff60c8",
   "metadata": {},
   "outputs": [
    {
     "data": {
      "text/plain": [
       "'said'"
      ]
     },
     "execution_count": 254,
     "metadata": {},
     "output_type": "execute_result"
    }
   ],
   "source": [
    "two._name"
   ]
  },
  {
   "cell_type": "code",
   "execution_count": 256,
   "id": "14b92235-2564-47b1-a5d6-b8c3557dbc8c",
   "metadata": {},
   "outputs": [],
   "source": [
    "#3- Private\n",
    "\n",
    "class member:\n",
    "    def __init__(self,name):\n",
    "        self.__name = name   #Private"
   ]
  },
  {
   "cell_type": "code",
   "execution_count": 258,
   "id": "7c122e24-cdd9-43dd-929e-0bba2e17521d",
   "metadata": {},
   "outputs": [],
   "source": [
    "tree = member('aya')"
   ]
  },
  {
   "cell_type": "code",
   "execution_count": 260,
   "id": "9a257904-82db-4a2c-b879-9e905149c46c",
   "metadata": {},
   "outputs": [
    {
     "ename": "AttributeError",
     "evalue": "'member' object has no attribute '__name'",
     "output_type": "error",
     "traceback": [
      "\u001b[1;31m---------------------------------------------------------------------------\u001b[0m",
      "\u001b[1;31mAttributeError\u001b[0m                            Traceback (most recent call last)",
      "Cell \u001b[1;32mIn[260], line 1\u001b[0m\n\u001b[1;32m----> 1\u001b[0m tree\u001b[38;5;241m.\u001b[39m__name\n",
      "\u001b[1;31mAttributeError\u001b[0m: 'member' object has no attribute '__name'"
     ]
    }
   ],
   "source": [
    "# we can NOT view it \n",
    "tree.__name"
   ]
  },
  {
   "cell_type": "code",
   "execution_count": 262,
   "id": "7fb963d2-fceb-47d1-b184-68ee8c120f19",
   "metadata": {},
   "outputs": [],
   "source": [
    "class member:\n",
    "    def __init__(self,name):\n",
    "        self.__name = name   #Private\n",
    "\n",
    "    def say_hello(self):\n",
    "        return f'Hello {self.__name}' # this fun can access the private att"
   ]
  },
  {
   "cell_type": "code",
   "execution_count": 271,
   "id": "e7cfed54-2b8b-4bc3-be3c-eb304ccf1741",
   "metadata": {},
   "outputs": [],
   "source": [
    "three = member('aya')"
   ]
  },
  {
   "cell_type": "code",
   "execution_count": 273,
   "id": "b39972e5-1c14-40f1-90a2-7386d51ad720",
   "metadata": {},
   "outputs": [
    {
     "data": {
      "text/plain": [
       "'Hello aya'"
      ]
     },
     "execution_count": 273,
     "metadata": {},
     "output_type": "execute_result"
    }
   ],
   "source": [
    "three.say_hello()"
   ]
  },
  {
   "cell_type": "code",
   "execution_count": 275,
   "id": "9943ed10-7282-42fa-bdb4-f15aa1295af3",
   "metadata": {},
   "outputs": [
    {
     "name": "stdout",
     "output_type": "stream",
     "text": [
      "aya\n"
     ]
    }
   ],
   "source": [
    "#tip\n",
    "# I can also access the private and edit it \n",
    "print(three._member__name)"
   ]
  },
  {
   "cell_type": "code",
   "execution_count": 277,
   "id": "ad6a9ebd-17f8-4425-b79a-f38900f6935d",
   "metadata": {},
   "outputs": [],
   "source": [
    "three._member__name = 'said'"
   ]
  },
  {
   "cell_type": "code",
   "execution_count": 279,
   "id": "5c613864-3c55-4471-93d3-fa4a1c26bc52",
   "metadata": {},
   "outputs": [
    {
     "name": "stdout",
     "output_type": "stream",
     "text": [
      "said\n"
     ]
    }
   ],
   "source": [
    "print(three._member__name)"
   ]
  },
  {
   "cell_type": "code",
   "execution_count": 282,
   "id": "6c460355-2473-4160-ab5e-b93ebf1e94c4",
   "metadata": {},
   "outputs": [],
   "source": [
    "# Encapsulation in python is more about naming covention between developers"
   ]
  },
  {
   "cell_type": "markdown",
   "id": "52cb9dce-100b-4ec2-9c15-2641781214c1",
   "metadata": {},
   "source": [
    "## Getter & Setter"
   ]
  },
  {
   "cell_type": "code",
   "execution_count": 292,
   "id": "82efb96e-056f-41d6-bcb9-c411d414991b",
   "metadata": {},
   "outputs": [],
   "source": [
    "class person:\n",
    "\n",
    "    def __init__(self, name, age):\n",
    "        self.__name = name\n",
    "        self.age = age\n",
    "\n",
    "    def set_name(self, new_name):\n",
    "        self.name = new_name\n",
    "\n",
    "    def set_age(self, new_age):\n",
    "        self.age = new_age\n",
    "\n",
    "    def get_name(self):\n",
    "        return self.name\n",
    "\n",
    "    def get_age(self):\n",
    "        return self.age"
   ]
  },
  {
   "cell_type": "code",
   "execution_count": 294,
   "id": "a8af4776-1ae7-4074-8c82-745f939b634a",
   "metadata": {},
   "outputs": [],
   "source": [
    "p1 = person('Ali',26)"
   ]
  },
  {
   "cell_type": "code",
   "execution_count": 296,
   "id": "95a015c8-8aa4-410e-bec5-8fc37f90520c",
   "metadata": {},
   "outputs": [
    {
     "data": {
      "text/plain": [
       "'Ali'"
      ]
     },
     "execution_count": 296,
     "metadata": {},
     "output_type": "execute_result"
    }
   ],
   "source": [
    "p1.get_name()"
   ]
  },
  {
   "cell_type": "code",
   "execution_count": 298,
   "id": "c9564046-230c-4222-bd28-0ec22613a0ef",
   "metadata": {},
   "outputs": [
    {
     "data": {
      "text/plain": [
       "26"
      ]
     },
     "execution_count": 298,
     "metadata": {},
     "output_type": "execute_result"
    }
   ],
   "source": [
    "p1.get_age()"
   ]
  },
  {
   "cell_type": "code",
   "execution_count": 300,
   "id": "36b43e0b-ec86-4b19-9ccc-eb926a56ace4",
   "metadata": {},
   "outputs": [],
   "source": [
    "p1.set_name('Ahmed')"
   ]
  },
  {
   "cell_type": "code",
   "execution_count": 302,
   "id": "03877704-9eb3-4af6-8b69-e2eb73ac426d",
   "metadata": {},
   "outputs": [
    {
     "data": {
      "text/plain": [
       "'Ahmed'"
      ]
     },
     "execution_count": 302,
     "metadata": {},
     "output_type": "execute_result"
    }
   ],
   "source": [
    "p1.get_name()"
   ]
  },
  {
   "cell_type": "code",
   "execution_count": null,
   "id": "de85e5d6-1da4-4710-a1bf-908f87529617",
   "metadata": {},
   "outputs": [],
   "source": [
    "## TASK"
   ]
  },
  {
   "cell_type": "code",
   "execution_count": null,
   "id": "ea932219-19f5-42ff-9b64-b1b5afb42f92",
   "metadata": {},
   "outputs": [],
   "source": [
    "# create student class --> name, course , grade\n",
    "# set  --> name, course , grade\n",
    "# get  --> name, course , grade"
   ]
  },
  {
   "cell_type": "code",
   "execution_count": 310,
   "id": "7eb146b4-ae9a-4954-aabc-3c2b8442d54d",
   "metadata": {},
   "outputs": [],
   "source": [
    "class student:\n",
    "    def __init__(self,name, course , grade):\n",
    "        self.name =name\n",
    "        self.course = course\n",
    "        self.grade = grade\n",
    "        print(\"My name is {}, I am studying {}, my grade is {}\".format(self.name,self.course,self.grade))\n",
    "        #print(f\"My name is {self.name}, I am studying {self.course}, my grade is {self.grade}\") -->same \n",
    "\n",
    "    #setters\n",
    "    def set_name(self, new_name):\n",
    "        self.name = new_name\n",
    "\n",
    "    def set_course(self, new_course):\n",
    "        self.course = new_course\n",
    "        \n",
    "    def set_grade(self, new_grade):\n",
    "        self.grade = new_grade\n",
    "\n",
    "    #Getters\n",
    "    def get_name(self):\n",
    "        return self.name\n",
    "\n",
    "    def get_course(self):\n",
    "        return self.course\n",
    "        \n",
    "    def get_grade(self):\n",
    "        return self.grade"
   ]
  },
  {
   "cell_type": "code",
   "execution_count": 312,
   "id": "f85df423-86b5-4171-8d40-3c7dbcf9f257",
   "metadata": {},
   "outputs": [
    {
     "name": "stdout",
     "output_type": "stream",
     "text": [
      "My name is Ahmed, I am studying AI, my grade is 90\n"
     ]
    }
   ],
   "source": [
    "s = student('Ahmed', 'AI', 90)"
   ]
  },
  {
   "cell_type": "code",
   "execution_count": 314,
   "id": "a09b49c1-6ec7-4da6-b857-150f032be1ce",
   "metadata": {},
   "outputs": [],
   "source": [
    "s.set_name('Ahmed Ali')"
   ]
  },
  {
   "cell_type": "code",
   "execution_count": 316,
   "id": "b083d76a-e1f6-48c4-a285-78096f639d04",
   "metadata": {},
   "outputs": [
    {
     "data": {
      "text/plain": [
       "'Ahmed Ali'"
      ]
     },
     "execution_count": 316,
     "metadata": {},
     "output_type": "execute_result"
    }
   ],
   "source": [
    "s.get_name()"
   ]
  },
  {
   "cell_type": "code",
   "execution_count": null,
   "id": "c7ed9c3a-7d0c-48cc-8d75-9df894d5fcdb",
   "metadata": {},
   "outputs": [],
   "source": []
  },
  {
   "cell_type": "code",
   "execution_count": null,
   "id": "5612d1ab-a47e-481c-9076-2f92ebb7ef1c",
   "metadata": {},
   "outputs": [],
   "source": []
  },
  {
   "cell_type": "code",
   "execution_count": null,
   "id": "8a0a1098-7acb-45d5-ba92-8930c7e5cd18",
   "metadata": {},
   "outputs": [],
   "source": []
  },
  {
   "cell_type": "code",
   "execution_count": null,
   "id": "f0082cea-964b-454f-97cb-527d4a3ff9f4",
   "metadata": {},
   "outputs": [],
   "source": []
  }
 ],
 "metadata": {
  "kernelspec": {
   "display_name": "Python 3 (ipykernel)",
   "language": "python",
   "name": "python3"
  },
  "language_info": {
   "codemirror_mode": {
    "name": "ipython",
    "version": 3
   },
   "file_extension": ".py",
   "mimetype": "text/x-python",
   "name": "python",
   "nbconvert_exporter": "python",
   "pygments_lexer": "ipython3",
   "version": "3.12.4"
  }
 },
 "nbformat": 4,
 "nbformat_minor": 5
}
